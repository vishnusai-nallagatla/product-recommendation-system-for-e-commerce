{
  "cells": [
    {
      "cell_type": "markdown",
      "metadata": {
        "id": "feeFR0f2NEWp"
      },
      "source": [
        "### Amar Shaw\n",
        "* Computer Science Engineering,(August, 2019)"
      ]
    },
    {
      "cell_type": "markdown",
      "metadata": {
        "id": "dj92__i8NEWr"
      },
      "source": [
        "## Product Recommendation System for e-commerce businesses\n",
        "A well developed recommendation system will help businesses improve their shopper's experience on website and result in better customer acquisition and retention.\n",
        "\n",
        "The recommendation system, I have designed below is based on the journey of a new customer from the time he/she lands on the business’s website for the first time to when he/she makes repeat purchases.\n",
        "\n",
        "The recommendation system is designed in 3 parts based on the business context:\n",
        "\n",
        "* **Recommendation system part I:** Product pupularity based system targetted at new customers\n",
        "\n",
        "* **Recommendation system part II:** Model-based collaborative filtering system based on customer's purchase history and ratings provided by other users who bought items similar items\n",
        "\n",
        "* **Recommendation system part III:** When a business is setting up its e-commerce website for the first time without any product rating\n",
        "\n",
        "When a new customer without any previous purchase history visits the e-commerce website for the first time, he/she is recommended the most popular products sold on the company's website. Once, he/she makes a purchase, the recommendation system updates and recommends other products based on the purchase history and ratings provided by other users on the website. The latter part is done using collaborative filtering techniques."
      ]
    },
    {
      "cell_type": "markdown",
      "metadata": {
        "id": "-rT6HUWENEWs"
      },
      "source": [
        "## Recommendation System - Part I\n",
        "### Product popularity based recommendation system targeted at new customers\n",
        "* Popularity based are a great strategy to target the new customers with the most popular products sold on a business's website and is very useful to cold start a recommendation engine.\n",
        "[[](http://)](http://)\n",
        "* **Dataset : **[Amazon product review dataset](https://www.kaggle.com/skillsmuggler/amazon-ratings)"
      ]
    },
    {
      "cell_type": "markdown",
      "metadata": {
        "id": "TO-bu0WmNEWs"
      },
      "source": [
        "#### Importing libraries"
      ]
    },
    {
      "cell_type": "code",
      "execution_count": null,
      "metadata": {
        "id": "ANmKXKOeNEWs"
      },
      "outputs": [],
      "source": [
        "import numpy as np\n",
        "import pandas as pd\n",
        "import matplotlib.pyplot as plt\n",
        "\n",
        "# %matplotlib inline\n",
        "plt.style.use(\"ggplot\")\n",
        "\n",
        "import sklearn\n",
        "from sklearn.decomposition import TruncatedSVD"
      ]
    },
    {
      "cell_type": "markdown",
      "metadata": {
        "id": "tRJEotBMNEWt"
      },
      "source": [
        "#### Loading the dataset"
      ]
    },
    {
      "cell_type": "code",
      "execution_count": null,
      "metadata": {
        "id": "TLIX4G-PNEWt"
      },
      "outputs": [],
      "source": [
        "amazon_ratings = pd.read_csv('../input/amazon-ratings/ratings_Beauty.csv')\n",
        "amazon_ratings = amazon_ratings.dropna()\n",
        "amazon_ratings.head()"
      ]
    },
    {
      "cell_type": "code",
      "execution_count": null,
      "metadata": {
        "id": "TYwbrG-oNEWu"
      },
      "outputs": [],
      "source": [
        "amazon_ratings.shape"
      ]
    },
    {
      "cell_type": "code",
      "execution_count": null,
      "metadata": {
        "id": "KYGrVFCZNEWu"
      },
      "outputs": [],
      "source": [
        "popular_products = pd.DataFrame(amazon_ratings.groupby('ProductId')['Rating'].count())\n",
        "most_popular = popular_products.sort_values('Rating', ascending=False)\n",
        "most_popular.head(10)"
      ]
    },
    {
      "cell_type": "code",
      "execution_count": null,
      "metadata": {
        "id": "HJMmV4OGNEWu"
      },
      "outputs": [],
      "source": [
        "most_popular.head(30).plot(kind = \"bar\")"
      ]
    },
    {
      "cell_type": "markdown",
      "metadata": {
        "id": "pvesDHNJNEWu"
      },
      "source": [
        "** Analysis:**\n",
        "\n",
        "* The above graph gives us the most popular products (arranged in descending order) sold by the business.\n",
        "\n",
        "* For eaxmple, product, ID # B001MA0QY2 has sales of over 7000, the next most popular product, ID # B0009V1YR8 has sales of  3000, etc.     "
      ]
    },
    {
      "cell_type": "markdown",
      "metadata": {
        "id": "yanxqvrNNEWu"
      },
      "source": [
        "## Recommendation System - Part II\n",
        "### Model-based collaborative filtering system\n",
        "\n",
        "* Recommend items to users based on purchase history and similarity of ratings provided by other users who bought items to that of a particular customer.\n",
        "* A model based collaborative filtering technique is closen here as it helps in making predictinfg products for a particular user by identifying patterns based on preferences from multiple user data."
      ]
    },
    {
      "cell_type": "markdown",
      "metadata": {
        "id": "dgOAmY2PNEWu"
      },
      "source": [
        "#### Utility Matrix based on products sold and user reviews\n",
        "**Utility Matrix : **An utlity matrix is consists of all possible user-item preferences (ratings) details represented as a matrix. The utility matrix is sparce as none of the users would buy all teh items in the list, hence, most of the values are unknown."
      ]
    },
    {
      "cell_type": "code",
      "execution_count": null,
      "metadata": {
        "id": "N6KcfC-ANEWv"
      },
      "outputs": [],
      "source": [
        "# Subset of Amazon Ratings\n",
        "\n",
        "amazon_ratings1 = amazon_ratings.head(10000)"
      ]
    },
    {
      "cell_type": "code",
      "execution_count": null,
      "metadata": {
        "id": "uQ9djeBJNEWv"
      },
      "outputs": [],
      "source": [
        "ratings_utility_matrix = amazon_ratings1.pivot_table(values='Rating', index='UserId', columns='ProductId', fill_value=0)\n",
        "ratings_utility_matrix.head()"
      ]
    },
    {
      "cell_type": "markdown",
      "metadata": {
        "id": "kwPPAqpXNEWv"
      },
      "source": [
        "As expected, the utility matrix obtaned above is sparce, I have filled up the unknown values wth 0."
      ]
    },
    {
      "cell_type": "code",
      "execution_count": null,
      "metadata": {
        "id": "JGypYGwfNEWv"
      },
      "outputs": [],
      "source": [
        "ratings_utility_matrix.shape"
      ]
    },
    {
      "cell_type": "markdown",
      "metadata": {
        "id": "ebLbbqb_NEWv"
      },
      "source": [
        "Transposing the matrix"
      ]
    },
    {
      "cell_type": "code",
      "execution_count": null,
      "metadata": {
        "id": "nEunus5HNEWv"
      },
      "outputs": [],
      "source": [
        "X = ratings_utility_matrix.T\n",
        "X.head()"
      ]
    },
    {
      "cell_type": "code",
      "execution_count": null,
      "metadata": {
        "id": "2VDwRhrGNEWv"
      },
      "outputs": [],
      "source": [
        "X.shape"
      ]
    },
    {
      "cell_type": "markdown",
      "metadata": {
        "id": "eEGxXL6LNEWw"
      },
      "source": [
        "Unique products in subset of data"
      ]
    },
    {
      "cell_type": "code",
      "execution_count": null,
      "metadata": {
        "id": "kLYivLR_NEWw"
      },
      "outputs": [],
      "source": [
        "X1 = X"
      ]
    },
    {
      "cell_type": "markdown",
      "metadata": {
        "id": "TjvYvAtcNEWw"
      },
      "source": [
        "### Decomposing the Matrix"
      ]
    },
    {
      "cell_type": "code",
      "execution_count": null,
      "metadata": {
        "id": "eF1Nf6bNNEWw"
      },
      "outputs": [],
      "source": [
        "SVD = TruncatedSVD(n_components=10)\n",
        "decomposed_matrix = SVD.fit_transform(X)\n",
        "decomposed_matrix.shape"
      ]
    },
    {
      "cell_type": "markdown",
      "metadata": {
        "id": "XdQEtAHcNEWw"
      },
      "source": [
        "### Correlation Matrix"
      ]
    },
    {
      "cell_type": "code",
      "execution_count": null,
      "metadata": {
        "id": "3ZkNteTDNEWw"
      },
      "outputs": [],
      "source": [
        "correlation_matrix = np.corrcoef(decomposed_matrix)\n",
        "correlation_matrix.shape"
      ]
    },
    {
      "cell_type": "markdown",
      "metadata": {
        "id": "TgzvF4UgNEWw"
      },
      "source": [
        "correlation_matrix"
      ]
    },
    {
      "cell_type": "markdown",
      "metadata": {
        "id": "6r2xneWLNEWw"
      },
      "source": [
        "### Isolating Product ID # 6117036094 from the Correlation Matrix\n",
        "\n",
        "Assuming the customer buys Product ID # 6117036094 (randomly chosen)"
      ]
    },
    {
      "cell_type": "code",
      "execution_count": null,
      "metadata": {
        "scrolled": true,
        "id": "l7eYd8HBNEWx"
      },
      "outputs": [],
      "source": [
        "X.index[99]"
      ]
    },
    {
      "cell_type": "markdown",
      "metadata": {
        "id": "e33JkE6FNEWx"
      },
      "source": [
        "Index # of product ID purchased by customer"
      ]
    },
    {
      "cell_type": "code",
      "execution_count": null,
      "metadata": {
        "id": "B59XZVgQNEWx"
      },
      "outputs": [],
      "source": [
        "i = \"6117036094\"\n",
        "\n",
        "product_names = list(X.index)\n",
        "product_ID = product_names.index(i)\n",
        "product_ID"
      ]
    },
    {
      "cell_type": "markdown",
      "metadata": {
        "id": "6xDMZDZrNEWx"
      },
      "source": [
        "Correlation for all items with the item purchased by this customer based on items rated by other customers people who bought the same product"
      ]
    },
    {
      "cell_type": "code",
      "execution_count": null,
      "metadata": {
        "id": "qZyZXcxKNEWx"
      },
      "outputs": [],
      "source": [
        "correlation_product_ID = correlation_matrix[product_ID]\n",
        "correlation_product_ID.shape"
      ]
    },
    {
      "cell_type": "markdown",
      "metadata": {
        "id": "rnza1vHONEWx"
      },
      "source": [
        "### Recommending top 10 highly correlated products in sequence"
      ]
    },
    {
      "cell_type": "code",
      "execution_count": null,
      "metadata": {
        "id": "1qy-57fzNEWx"
      },
      "outputs": [],
      "source": [
        "Recommend = list(X.index[correlation_product_ID > 0.90])\n",
        "\n",
        "# Removes the item already bought by the customer\n",
        "Recommend.remove(i)\n",
        "\n",
        "Recommend[0:9]"
      ]
    },
    {
      "cell_type": "markdown",
      "metadata": {
        "id": "KIbgOkI-NEWx"
      },
      "source": [
        "**Product Id # **\n",
        "Here are the top 10 products to be displayed by the recommendation system to the above customer based on the purchase history of other customers in the website."
      ]
    },
    {
      "cell_type": "markdown",
      "metadata": {
        "id": "yBjMFxDqNEWx"
      },
      "source": [
        "## Recommendation System - Part III\n",
        "* For a business without any user-item purchase history, a search engine based recommendation system can be designed for users. The product recommendations can be based on textual clustering analysis given in product description.\n",
        "* **Dataset : **[Home Depot's dataset with product dataset.](https://www.kaggle.com/c/home-depot-product-search-relevance/data)"
      ]
    },
    {
      "cell_type": "code",
      "execution_count": null,
      "metadata": {
        "id": "cakA97j5NEWx"
      },
      "outputs": [],
      "source": [
        "# Importing libraries\n",
        "\n",
        "from sklearn.feature_extraction.text import TfidfVectorizer, CountVectorizer\n",
        "from sklearn.neighbors import NearestNeighbors\n",
        "from sklearn.cluster import KMeans\n",
        "from sklearn.metrics import adjusted_rand_score"
      ]
    },
    {
      "cell_type": "markdown",
      "metadata": {
        "id": "yd3u0UvbNEWy"
      },
      "source": [
        "### Item to item based recommendation system based on product description\n",
        "\n",
        "Applicable when business is setting up its E-commerce website for the first time"
      ]
    },
    {
      "cell_type": "code",
      "execution_count": null,
      "metadata": {
        "id": "G5vMTCgUNEW1"
      },
      "outputs": [],
      "source": [
        "product_descriptions = pd.read_csv('../input/home-depot-product-search-relevance/product_descriptions.csv')\n",
        "product_descriptions.shape"
      ]
    },
    {
      "cell_type": "markdown",
      "metadata": {
        "id": "apEWHPZVNEW1"
      },
      "source": [
        "#### Checking for missing values"
      ]
    },
    {
      "cell_type": "code",
      "execution_count": null,
      "metadata": {
        "id": "pqThWoKGNEW2"
      },
      "outputs": [],
      "source": [
        "# Missing values\n",
        "\n",
        "product_descriptions = product_descriptions.dropna()\n",
        "product_descriptions.shape\n",
        "product_descriptions.head()"
      ]
    },
    {
      "cell_type": "code",
      "execution_count": null,
      "metadata": {
        "id": "-wpHXw_RNEW2"
      },
      "outputs": [],
      "source": [
        "product_descriptions1 = product_descriptions.head(500)\n",
        "# product_descriptions1.iloc[:,1]\n",
        "\n",
        "product_descriptions1[\"product_description\"].head(10)"
      ]
    },
    {
      "cell_type": "markdown",
      "metadata": {
        "id": "l-FmqZTqNEW2"
      },
      "source": [
        "#### Feature extraction from product descriptions\n",
        "\n",
        "Converting the text in product description into numerical data for analysis"
      ]
    },
    {
      "cell_type": "code",
      "execution_count": null,
      "metadata": {
        "id": "yK5l70rYNEW2"
      },
      "outputs": [],
      "source": [
        "vectorizer = TfidfVectorizer(stop_words='english')\n",
        "X1 = vectorizer.fit_transform(product_descriptions1[\"product_description\"])\n",
        "X1"
      ]
    },
    {
      "cell_type": "markdown",
      "metadata": {
        "id": "5m5zBUw2NEW2"
      },
      "source": [
        "#### Visualizing product clusters in subset of data"
      ]
    },
    {
      "cell_type": "code",
      "execution_count": null,
      "metadata": {
        "id": "gu1YzKIbNEW2"
      },
      "outputs": [],
      "source": [
        "# Fitting K-Means to the dataset\n",
        "\n",
        "X=X1\n",
        "\n",
        "kmeans = KMeans(n_clusters = 10, init = 'k-means++')\n",
        "y_kmeans = kmeans.fit_predict(X)\n",
        "plt.plot(y_kmeans, \".\")\n",
        "plt.show()\n"
      ]
    },
    {
      "cell_type": "markdown",
      "metadata": {
        "id": "-3x518dNNEW2"
      },
      "source": [
        "F"
      ]
    },
    {
      "cell_type": "code",
      "execution_count": null,
      "metadata": {
        "id": "InVczZ41NEW2"
      },
      "outputs": [],
      "source": [
        "def print_cluster(i):\n",
        "    print(\"Cluster %d:\" % i),\n",
        "    for ind in order_centroids[i, :10]:\n",
        "        print(' %s' % terms[ind]),\n",
        "    print"
      ]
    },
    {
      "cell_type": "markdown",
      "metadata": {
        "id": "F_Jbb5vqNEW2"
      },
      "source": [
        "## Output\n",
        "* Recommendation of product based on the current product selected by user.\n",
        "* To recommend related product based on, Frequently bought together."
      ]
    },
    {
      "cell_type": "markdown",
      "metadata": {
        "id": "p47BHVL4NEW2"
      },
      "source": [
        "#### Top words in each cluster based on product description"
      ]
    },
    {
      "cell_type": "code",
      "execution_count": null,
      "metadata": {
        "id": "2VAkPRoZNEW2"
      },
      "outputs": [],
      "source": [
        "# # Optimal clusters is\n",
        "\n",
        "true_k = 10\n",
        "\n",
        "model = KMeans(n_clusters=true_k, init='k-means++', max_iter=100, n_init=1)\n",
        "model.fit(X1)\n",
        "\n",
        "print(\"Top terms per cluster:\")\n",
        "order_centroids = model.cluster_centers_.argsort()[:, ::-1]\n",
        "terms = vectorizer.get_feature_names()\n",
        "for i in range(true_k):\n",
        "    print_cluster(i)"
      ]
    },
    {
      "cell_type": "markdown",
      "metadata": {
        "id": "Ss-SL5zXNEW2"
      },
      "source": [
        "#### Predicting clusters based on key search words"
      ]
    },
    {
      "cell_type": "code",
      "execution_count": null,
      "metadata": {
        "id": "ly9dDxO1NEW3"
      },
      "outputs": [],
      "source": [
        "def show_recommendations(product):\n",
        "    #print(\"Cluster ID:\")\n",
        "    Y = vectorizer.transform([product])\n",
        "    prediction = model.predict(Y)\n",
        "    #print(prediction)\n",
        "    print_cluster(prediction[0])"
      ]
    },
    {
      "cell_type": "markdown",
      "metadata": {
        "id": "Zn7ctovvNEW3"
      },
      "source": [
        "* **Keyword : ** cutting tool"
      ]
    },
    {
      "cell_type": "code",
      "execution_count": null,
      "metadata": {
        "id": "elNVQMn4NEW3"
      },
      "outputs": [],
      "source": [
        "show_recommendations(\"cutting tool\")"
      ]
    },
    {
      "cell_type": "markdown",
      "metadata": {
        "id": "22GCHR8ZNEW3"
      },
      "source": [
        "* **Keyword : **spray paint"
      ]
    },
    {
      "cell_type": "code",
      "execution_count": null,
      "metadata": {
        "id": "pC1SMKcCNEW3"
      },
      "outputs": [],
      "source": [
        "show_recommendations(\"spray paint\")"
      ]
    },
    {
      "cell_type": "markdown",
      "metadata": {
        "id": "CP5R7V55NEW3"
      },
      "source": [
        "* **Keyword : **steel drill"
      ]
    },
    {
      "cell_type": "code",
      "execution_count": null,
      "metadata": {
        "id": "KhsJzm-ZNEW3"
      },
      "outputs": [],
      "source": [
        "show_recommendations(\"steel drill\")"
      ]
    },
    {
      "cell_type": "markdown",
      "metadata": {
        "id": "I9JhLlJeNEW3"
      },
      "source": [
        "In case a word appears in multiple clusters, the algorithm chooses the cluster with the highest frequency of occurance of the word."
      ]
    },
    {
      "cell_type": "markdown",
      "metadata": {
        "id": "y3aHUzMTNEW3"
      },
      "source": [
        "* **Keyword : **water"
      ]
    },
    {
      "cell_type": "code",
      "execution_count": null,
      "metadata": {
        "scrolled": true,
        "id": "c_A0mRygNEW3"
      },
      "outputs": [],
      "source": [
        "show_recommendations(\"water\")"
      ]
    },
    {
      "cell_type": "markdown",
      "metadata": {
        "id": "eDa5cyc5NEW3"
      },
      "source": [
        "Once a cluster is identified based on the user's search words, the recommendation system can display items from the corresponding product clusters based on the product descriptions."
      ]
    },
    {
      "cell_type": "markdown",
      "metadata": {
        "id": "fVg_YcYUNEW3"
      },
      "source": [
        "#### Summary:\n",
        "\n",
        "This works best if a business is setting up its e-commerce website for the first time and does not have user-item purchase/rating history to start with initally. This recommendation system will help the users get a good recommendation to start with and once the buyers have a purchased history, the recommendation engine can use the model based collaborative filtering technique."
      ]
    }
  ],
  "metadata": {
    "kaggle": {
      "accelerator": "none",
      "dataSources": [
        {
          "databundleVersionId": 36114,
          "sourceId": 4853,
          "sourceType": "competition"
        },
        {
          "datasetId": 33019,
          "sourceId": 43260,
          "sourceType": "datasetVersion"
        }
      ],
      "dockerImageVersionId": 29271,
      "isGpuEnabled": false,
      "isInternetEnabled": false,
      "language": "python",
      "sourceType": "notebook"
    },
    "kernelspec": {
      "display_name": "Python 3 (ipykernel)",
      "language": "python",
      "name": "python3"
    },
    "language_info": {
      "codemirror_mode": {
        "name": "ipython",
        "version": 3
      },
      "file_extension": ".py",
      "mimetype": "text/x-python",
      "name": "python",
      "nbconvert_exporter": "python",
      "pygments_lexer": "ipython3",
      "version": "3.9.13"
    },
    "colab": {
      "provenance": []
    }
  },
  "nbformat": 4,
  "nbformat_minor": 0
}